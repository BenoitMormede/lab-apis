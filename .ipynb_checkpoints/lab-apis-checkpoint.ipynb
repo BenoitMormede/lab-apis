{
 "cells": [
  {
   "cell_type": "markdown",
   "id": "27422808-8a16-4be1-897f-57b379af8991",
   "metadata": {},
   "source": [
    "# Lab | APIs"
   ]
  },
  {
   "cell_type": "markdown",
   "id": "50f30950-3e31-499a-92ea-1535422c570b",
   "metadata": {},
   "source": [
    "In order to use the `Spotify` API (`SpotiPy`), create an account in `Spotify` and follow [these](https://developer.spotify.com/documentation/general/guides/app-settings/) steps. "
   ]
  },
  {
   "cell_type": "markdown",
   "id": "a0479b95-6ca5-415e-b894-1f5cb17b055b",
   "metadata": {},
   "source": [
    "## Authentication and initializing the API"
   ]
  },
  {
   "cell_type": "markdown",
   "id": "47d71611-c617-4972-a0c3-7090c24b399c",
   "metadata": {},
   "source": [
    "Save your client ID and your client secret in your preferred way, and read it or load it into the following variables:"
   ]
  },
  {
   "cell_type": "code",
   "execution_count": 7,
   "id": "ea44c82a-5c07-4dbc-beb2-bba2601bb75e",
   "metadata": {},
   "outputs": [],
   "source": [
    "CLIENT_ID = \"<introduce your client id>\"\n",
    "CLIENT_SECRET = \"<introduce your client secret>\""
   ]
  },
  {
   "cell_type": "code",
   "execution_count": 9,
   "id": "319cfd4e-f6fb-4419-80e0-e3983cd25e43",
   "metadata": {},
   "outputs": [],
   "source": [
    "CLIENT_ID = \"4109b2d9f5014671863bb2df1d1fbdd3\"\n",
    "CLIENT_SECRET = \"5cb719fae80c4191a9c0b288f51bfe50\""
   ]
  },
  {
   "cell_type": "code",
   "execution_count": 11,
   "id": "04e12954-fd70-4311-88a5-fb7e2c29799c",
   "metadata": {},
   "outputs": [
    {
     "name": "stdout",
     "output_type": "stream",
     "text": [
      "Requirement already satisfied: spotipy in c:\\users\\benoi\\anaconda3\\lib\\site-packages (2.24.0)\n",
      "Requirement already satisfied: redis>=3.5.3 in c:\\users\\benoi\\anaconda3\\lib\\site-packages (from spotipy) (5.0.8)\n",
      "Requirement already satisfied: requests>=2.25.0 in c:\\users\\benoi\\anaconda3\\lib\\site-packages (from spotipy) (2.32.2)\n",
      "Requirement already satisfied: urllib3>=1.26.0 in c:\\users\\benoi\\anaconda3\\lib\\site-packages (from spotipy) (2.2.2)\n",
      "Requirement already satisfied: charset-normalizer<4,>=2 in c:\\users\\benoi\\anaconda3\\lib\\site-packages (from requests>=2.25.0->spotipy) (2.0.4)\n",
      "Requirement already satisfied: idna<4,>=2.5 in c:\\users\\benoi\\anaconda3\\lib\\site-packages (from requests>=2.25.0->spotipy) (3.7)\n",
      "Requirement already satisfied: certifi>=2017.4.17 in c:\\users\\benoi\\anaconda3\\lib\\site-packages (from requests>=2.25.0->spotipy) (2024.7.4)\n"
     ]
    }
   ],
   "source": [
    "# If you havent done so, install the spotipy wrapper\n",
    "!pip install spotipy"
   ]
  },
  {
   "cell_type": "markdown",
   "id": "dc0e86da-8846-4207-84c3-cd20b9e01d0e",
   "metadata": {},
   "source": [
    "Once you have done it, we will start initializing the API."
   ]
  },
  {
   "cell_type": "code",
   "execution_count": 15,
   "id": "03034bc6-9858-412a-83b7-18abdc345d7e",
   "metadata": {},
   "outputs": [],
   "source": [
    "import spotipy\n",
    "from spotipy.oauth2 import SpotifyClientCredentials\n",
    "\n",
    "#Initialize SpotiPy with user credentials\n",
    "sp = spotipy.Spotify(auth_manager=SpotifyClientCredentials(client_id=CLIENT_ID,\n",
    "                                                           client_secret=CLIENT_SECRET))\n"
   ]
  },
  {
   "cell_type": "markdown",
   "id": "8fed9628-08d7-4290-a4be-5527696b01c5",
   "metadata": {},
   "source": [
    "## Using the search method"
   ]
  },
  {
   "cell_type": "markdown",
   "id": "6575a3c6-f25a-4905-b1f3-c0efd50dcc1e",
   "metadata": {},
   "source": [
    "Now, let's use the search method by introducing a \"query\". For example, let's try searching for \"Lady Gaga\":"
   ]
  },
  {
   "cell_type": "code",
   "execution_count": null,
   "id": "7772a1e0-9692-4d04-a590-76111a272d8d",
   "metadata": {
    "tags": []
   },
   "outputs": [],
   "source": [
    "results = sp.search(q='Iron Maiden', limit=50)\n",
    "results"
   ]
  },
  {
   "cell_type": "code",
   "execution_count": null,
   "id": "edc14c95-474b-4e2a-aea3-bdfd0a205546",
   "metadata": {},
   "outputs": [],
   "source": [
    "results.keys() # We can see that we only have tracks"
   ]
  },
  {
   "cell_type": "code",
   "execution_count": null,
   "id": "ad8ef934-1dbb-4008-ac8e-f5c29823fe6a",
   "metadata": {},
   "outputs": [],
   "source": [
    "results[\"tracks\"].keys() # Let's check the values"
   ]
  },
  {
   "cell_type": "code",
   "execution_count": null,
   "id": "004b7814-4dd5-408e-b7ba-1da87f9250cb",
   "metadata": {},
   "outputs": [],
   "source": [
    "results[\"tracks\"][\"href\"] # Query we have searched "
   ]
  },
  {
   "cell_type": "code",
   "execution_count": null,
   "id": "ab60b48a-dee6-4cc3-ad60-4c82fcb6aa99",
   "metadata": {},
   "outputs": [],
   "source": [
    "results[\"tracks\"][\"items\"][0][\"name\"]"
   ]
  },
  {
   "cell_type": "code",
   "execution_count": null,
   "id": "c3540f3e-ca9c-467f-b2c4-42815596ab2a",
   "metadata": {},
   "outputs": [],
   "source": [
    "for i in range(50):\n",
    "    items_list=results[\"tracks\"][\"items\"][i][\"name\"]\n",
    "    print(items_list)"
   ]
  },
  {
   "cell_type": "code",
   "execution_count": null,
   "id": "fcc64133-9ab2-4b16-923d-0d041ad81607",
   "metadata": {},
   "outputs": [],
   "source": [
    "results[\"tracks\"][\"items\"][30] # Explore the first song\n"
   ]
  },
  {
   "cell_type": "code",
   "execution_count": null,
   "id": "3b7dc1de-54bc-45a5-a023-b6860fd94425",
   "metadata": {},
   "outputs": [],
   "source": [
    "results[\"tracks\"][\"items\"][30][\"name\"] # Explore the first song"
   ]
  },
  {
   "cell_type": "code",
   "execution_count": null,
   "id": "529fff56-47d3-4d78-8ff5-9530fe290d1d",
   "metadata": {},
   "outputs": [],
   "source": [
    "results[\"tracks\"][\"limit\"]#Limit we have chosen"
   ]
  },
  {
   "cell_type": "code",
   "execution_count": null,
   "id": "92c64c57-3bd2-4d42-bbd1-84a040f1e02a",
   "metadata": {},
   "outputs": [],
   "source": [
    "results[\"tracks\"][\"next\"] #link to the next page (next 50 tracks)"
   ]
  },
  {
   "cell_type": "code",
   "execution_count": null,
   "id": "f5ccdf79-5d9e-40de-adb9-2cc1e5b7c74a",
   "metadata": {
    "tags": []
   },
   "outputs": [],
   "source": [
    "results[\"tracks\"][\"offset\"] # Actual offset (starting point)"
   ]
  },
  {
   "cell_type": "code",
   "execution_count": null,
   "id": "356730c1-60a2-4ea8-bd2c-e0522bab8a4d",
   "metadata": {},
   "outputs": [],
   "source": [
    "results[\"tracks\"][\"previous\"] #Previous search"
   ]
  },
  {
   "cell_type": "code",
   "execution_count": null,
   "id": "7c44c8fd-63ea-45ba-94bd-5c5e8e1458b3",
   "metadata": {},
   "outputs": [],
   "source": [
    "results[\"tracks\"][\"total\"] # Number of matches"
   ]
  },
  {
   "cell_type": "markdown",
   "id": "7a127c64-3274-4ecc-aa0f-83ae34af4655",
   "metadata": {},
   "source": [
    "## Exploring the tracks"
   ]
  },
  {
   "cell_type": "code",
   "execution_count": null,
   "id": "f2c35eb2-3ea6-4329-9f29-7c062f466638",
   "metadata": {},
   "outputs": [],
   "source": [
    "results[\"tracks\"][\"items\"][30].keys() # We will focus on album, artists, id, name, popularity, type and uri"
   ]
  },
  {
   "cell_type": "code",
   "execution_count": null,
   "id": "6c3541a2-0fd2-41e0-9b27-60a7dc36c4cb",
   "metadata": {
    "scrolled": true,
    "tags": []
   },
   "outputs": [],
   "source": [
    "results[\"tracks\"][\"items\"][30] # Explore the first song"
   ]
  },
  {
   "cell_type": "code",
   "execution_count": null,
   "id": "889ca3c3-b0c8-4037-96fb-6add847f537f",
   "metadata": {},
   "outputs": [],
   "source": [
    "# Track artists\n",
    "results[\"tracks\"][\"items\"][30][\"album\"] "
   ]
  },
  {
   "cell_type": "code",
   "execution_count": null,
   "id": "a9c6a0b2-cea7-48ff-8c51-179d15388aa2",
   "metadata": {},
   "outputs": [],
   "source": [
    "# Track artists names\n",
    "for artist in results[\"tracks\"][\"items\"][30][\"artists\"]:\n",
    "    print(artist[\"name\"])\n",
    " "
   ]
  },
  {
   "cell_type": "code",
   "execution_count": null,
   "id": "6a826e9c-d2e7-4537-a82c-3dc3a2b80b9f",
   "metadata": {},
   "outputs": [],
   "source": [
    "# Track ID\n",
    "results[\"tracks\"][\"items\"][30][\"id\"] "
   ]
  },
  {
   "cell_type": "code",
   "execution_count": null,
   "id": "a5bd871b-6087-4680-819c-1a1d8ba879bc",
   "metadata": {},
   "outputs": [],
   "source": [
    "# Track name\n",
    "results[\"tracks\"][\"items\"][30][\"name\"] "
   ]
  },
  {
   "cell_type": "code",
   "execution_count": null,
   "id": "812661f1-29db-452f-a719-cdfbe95ba9f6",
   "metadata": {},
   "outputs": [],
   "source": [
    "# Popularity index\n",
    "results[\"tracks\"][\"items\"][30][\"popularity\"] "
   ]
  },
  {
   "cell_type": "markdown",
   "id": "0e81c762-e6c5-424e-a4eb-12ab45dffb9f",
   "metadata": {},
   "source": [
    "Spotify songs are identified by either a \"url\", a \"uri\", or an \"id\". \n",
    "\n",
    "- The `id` is an alphanumeric code, and it's the nuclear part of the identifier.\n",
    "\n",
    "- The `uri` contains \"spotify:track\" before the id. An uri is useful because it can be searched manually in the Spotify app.\n",
    "\n",
    "- The `url` is a link to the song on the Spotify web player.\n"
   ]
  },
  {
   "cell_type": "code",
   "execution_count": null,
   "id": "8bcdccfc-dde9-4f4b-8af5-3caa335b89b5",
   "metadata": {},
   "outputs": [],
   "source": [
    "results[\"tracks\"][\"items\"][30][\"uri\"]"
   ]
  },
  {
   "cell_type": "code",
   "execution_count": null,
   "id": "2cd02f75-54fe-48e9-ae37-bd0df8fa5d43",
   "metadata": {},
   "outputs": [],
   "source": [
    "results"
   ]
  },
  {
   "cell_type": "code",
   "execution_count": null,
   "id": "9a3ab49c-e0b2-487a-af63-bcb7e72f9c49",
   "metadata": {},
   "outputs": [],
   "source": [
    "iron_maiden = 'spotify:artist:6mdiAmATAx73kdxrNrnlao'\n",
    "spotify = spotipy.Spotify(auth_manager=SpotifyClientCredentials(client_id=CLIENT_ID,\n",
    "                                                           client_secret=CLIENT_SECRET))\n",
    "\n",
    "results2 = spotify.artist_albums(iron_maiden, album_type='album')\n",
    "albums = results2['items']\n",
    "while results2['next']:\n",
    "    results2 = spotify.next(results2)\n",
    "    albums.extend(results2['items'])\n",
    "\n",
    "for album in albums:\n",
    "    print(album['name'])"
   ]
  },
  {
   "cell_type": "code",
   "execution_count": null,
   "id": "4b66651b-bd1c-4db6-8515-038e681efc09",
   "metadata": {},
   "outputs": [],
   "source": [
    "results"
   ]
  },
  {
   "cell_type": "markdown",
   "id": "71c3c9c1-4ec2-42bf-a243-b21105ae1699",
   "metadata": {},
   "source": [
    "## Exercise 1: Discovering New Music through Your Favorite Artists\n",
    "\n",
    "**Objective:** \n",
    "Uncover new music by exploring the top tracks of your favorite artists and their related artists.\n",
    "\n",
    "**Instructions:**\n",
    "\n",
    "1. **List Your Favorite Artists**:\n",
    "    - Make a list of your three favorite artists and store it in a variable named `artists`.\n",
    "    - Example: `artists = [\"Los Fabulosos Cadillacs\", \"Manu Chao\", \"Muchachito Bombo Infierno\"]`.\n",
    "\n",
    "2. **Fetch Top Tracks**:\n",
    "    - Write a function named `get_top_tracks`.\n",
    "    - This function should accept an artist's name and return the name of the first 5 top tracks by that artist.\n",
    "    - Use the function `get_top_tracks` to get the first 5 top tracks for each artist in your `artists` list and store the results in a new list named `top_tracks_list`.\n",
    "\n",
    "3. **Discover Related Artists**:\n",
    "    - Write a function named `find_related_artists`.\n",
    "    - This function should accept an artist's name and return the names of the first 5 artists related to the provided artist.\n",
    "    - Store the results in a list named `related_artists_list`.\n",
    "\n",
    "**Challenge:** \n",
    "Combine the above steps to create a playlist that includes the top tracks of your favorite artists and the top tracks of the artists related to them."
   ]
  },
  {
   "cell_type": "markdown",
   "id": "0c442378-e26f-47c8-b4f1-b4fa07089935",
   "metadata": {},
   "source": [
    "**Hint Section for 3. **Discover Related Artists**:**\n",
    "\n",
    "1. **Getting Artist ID**:\n",
    "    - Remember that every artist on Spotify has a unique identifier: their `id`. To get the related artists, you first need to fetch the ID of the given artist.\n",
    "    - Consider using the `sp.search` method to query the artist's name. The method requires a `q` parameter, which is your query (in this case, the artist's name). It also has a `limit` parameter, which specifies the number of tracks it returns. In this case, 1 track is enough, since we just want the artist ID. \n",
    "    - Each track in the results has an associated 'artists' field. This field is a list containing details about all artists involved in that track.\n",
    "   - For most tracks, especially those by a single artist, this list will contain one artist. From this artist's details, you can extract the 'id' field, which is the unique identifier for that artist on Spotify.\n",
    "\n",
    "\n",
    "3. **Fetching Related Artists**:\n",
    "    - Once you have the artist's ID, you can use another SpotiPy method to fetch related artists. Think about which SpotiPy method allows you to get related artists using an artist's ID. Here is the documentation link: https://spotipy.readthedocs.io/en/2.22.1/. \n",
    "    - This method will return a list of related artists. You'll need to extract the relevant details (artist names) from this list.\n",
    "\n",
    "4. **Iterating for Multiple Artists**:\n",
    "    - Once you have a function that returns related artists names for one artist, you can use a list comprehension to apply this function to a list of artist names.\n",
    "\n",
    "5. **Testing**:\n",
    "    - Always test your function with one artist name first. Once you're confident it works, then apply it to the entire list.\n",
    "\n",
    "Remember, the key is to break the problem down into manageable steps. Use the SpotiPy documentation as a resource to understand available methods and their return structures."
   ]
  },
  {
   "cell_type": "code",
   "execution_count": null,
   "id": "d06a820f-248c-4e44-92f5-68e171f91f5a",
   "metadata": {},
   "outputs": [],
   "source": [
    "CLIENT_ID = \"<introduce your client id>\"\n",
    "CLIENT_SECRET = \"<introduce your client secret>\""
   ]
  },
  {
   "cell_type": "code",
   "execution_count": null,
   "id": "b58b4036-2266-46bc-90a3-09288b21dc5a",
   "metadata": {},
   "outputs": [],
   "source": [
    "CLIENT_ID = \"4109b2d9f5014671863bb2df1d1fbdd3\"\n",
    "CLIENT_SECRET = \"5cb719fae80c4191a9c0b288f51bfe50\""
   ]
  },
  {
   "cell_type": "code",
   "execution_count": null,
   "id": "accba36b-a35a-4d95-a7ab-641d37fa2a75",
   "metadata": {},
   "outputs": [],
   "source": [
    "# If you havent done so, install the spotipy wrapper\n",
    "!pip install spotipy"
   ]
  },
  {
   "cell_type": "code",
   "execution_count": null,
   "id": "68cee3fd-6d71-4ab0-9b93-fb27d2e8e106",
   "metadata": {},
   "outputs": [],
   "source": [
    "import spotipy\n",
    "from spotipy.oauth2 import SpotifyClientCredentials\n",
    "\n",
    "#Initialize SpotiPy with user credentials\n",
    "sp = spotipy.Spotify(auth_manager=SpotifyClientCredentials(client_id=CLIENT_ID,\n",
    "                                                           client_secret=CLIENT_SECRET))\n"
   ]
  },
  {
   "cell_type": "code",
   "execution_count": null,
   "id": "29694252-f217-454d-8881-681b2b6eeb1e",
   "metadata": {},
   "outputs": [],
   "source": [
    "def get_tracks_for_artist(data, artist_name):\n",
    "    tracks = []\n",
    "    \n",
    "    # Iterate through the list of tracks in the data\n",
    "    for item in data.get(\"tracks\", {}).get(\"items\", []):\n",
    "        # Check if the artist matches the specified artist_name\n",
    "        if any(artist.get(\"name\") == artist_name for artist in item.get(\"artists\", [])):\n",
    "            tracks.append(item.get(\"name\"))\n",
    "\n",
    "    return tracks"
   ]
  },
  {
   "cell_type": "code",
   "execution_count": null,
   "id": "e86b8615-0bc7-4a77-8f73-45842697b547",
   "metadata": {},
   "outputs": [],
   "source": [
    "artist_name = 'Iron Maiden'\n",
    "results = sp.search(q=(artist_name), limit=50)\n",
    "maiden_tracks = get_tracks_for_artist(results,artist_name)\n",
    "maiden_tracks"
   ]
  },
  {
   "cell_type": "code",
   "execution_count": null,
   "id": "a6fdfcaf-c557-41c4-af0b-4f6ab66efb0d",
   "metadata": {},
   "outputs": [],
   "source": [
    "def get_top_tracks_for_artist(data, artist_name, top_n=5):\n",
    "    # List to store tracks with their popularity\n",
    "    tracks = []\n",
    "\n",
    "    # Iterate through the list of tracks in the data\n",
    "    for item in data.get(\"tracks\", {}).get(\"items\", []):\n",
    "        # Check if the artist matches the specified artist_name\n",
    "        if any(artist.get(\"name\") == artist_name for artist in item.get(\"artists\", [])):\n",
    "            track_info = {\n",
    "                \"name\": item.get(\"name\"),\n",
    "                \"popularity\": item.get(\"popularity\")\n",
    "            }\n",
    "            tracks.append(track_info)\n",
    "\n",
    "    # Sort the tracks by popularity in descending order\n",
    "    sorted_tracks = sorted(tracks, key=lambda x: x[\"popularity\"], reverse=True)\n",
    "\n",
    "    # Get the top N tracks\n",
    "    top_tracks = sorted_tracks[:top_n]\n",
    "\n",
    "    return top_tracks"
   ]
  },
  {
   "cell_type": "code",
   "execution_count": null,
   "id": "a7d8921a-8776-4315-9187-4ce66419ef3a",
   "metadata": {},
   "outputs": [],
   "source": [
    "artist_name = 'Megadeth'\n",
    "results = sp.search(q=(artist_name), limit=50)\n",
    "top_tracks = get_top_tracks_for_artist(results,artist_name)\n",
    "top_tracks"
   ]
  },
  {
   "cell_type": "code",
   "execution_count": null,
   "id": "5602b015-2956-44a8-a699-364c5540b07a",
   "metadata": {},
   "outputs": [],
   "source": [
    "maiden_tracks = get_top_tracks_for_artist(results,\"Iron Maiden\")\n",
    "maiden_tracks"
   ]
  },
  {
   "cell_type": "code",
   "execution_count": null,
   "id": "3e8d45d4-7ef9-4b75-87aa-3dcd3e5412f3",
   "metadata": {},
   "outputs": [],
   "source": [
    "import pandas as pd\n",
    "artists = [\"Iron Maiden\", \"Metallica\", \"Megadeth\"]\n",
    "my_top_tracks={}\n",
    "\n",
    "for artist in artists:\n",
    "    results = sp.search(q=artist, limit=50)\n",
    "    top_tracks = get_top_tracks_for_artist(results,artist)\n",
    "    print(f\"Top tracks for {artist}: {top_tracks}\")\n",
    "    my_top_tracks[artist] = top_tracks\n",
    "\n",
    "\n"
   ]
  },
  {
   "cell_type": "code",
   "execution_count": null,
   "id": "38017b14-aaef-4942-9fe8-1e40b31b4c0e",
   "metadata": {},
   "outputs": [],
   "source": [
    "type(my_top_tracks)"
   ]
  },
  {
   "cell_type": "code",
   "execution_count": null,
   "id": "f02e20c3-a47b-4946-85a4-dfb2fa0cff71",
   "metadata": {},
   "outputs": [],
   "source": [
    "df = pd.DataFrame.from_dict(my_top_tracks, orient='index')\n",
    "df"
   ]
  },
  {
   "cell_type": "markdown",
   "id": "94ad5fdc-22e5-4521-8aa1-c6833eb7e949",
   "metadata": {},
   "source": [
    "## Playlists\n",
    "\n",
    "The `sp.featured_playlists()` method in `spotipy` fetches a list of Spotify's featured playlists at a given moment. These are curated playlists that Spotify often highlights on the platform's homepage. The method provides a snapshot of the playlists that are being promoted or featured by Spotify at the time of the request.\n",
    "\n",
    "Once you've fetched the featured playlists, you can extract their IDs (and other details)."
   ]
  },
  {
   "cell_type": "code",
   "execution_count": 17,
   "id": "25fb0cf8-c13a-41b0-b8f8-7e0700fd1e41",
   "metadata": {},
   "outputs": [
    {
     "data": {
      "text/plain": [
       "{'message': 'Popular Playlists',\n",
       " 'playlists': {'href': 'https://api.spotify.com/v1/browse/featured-playlists?offset=0&limit=20',\n",
       "  'items': [{'collaborative': False,\n",
       "    'description': 'Lady Gaga, Bruno Mars au sommet de la première playlist de France.',\n",
       "    'external_urls': {'spotify': 'https://open.spotify.com/playlist/37i9dQZF1DWVuV87wUBNwc'},\n",
       "    'href': 'https://api.spotify.com/v1/playlists/37i9dQZF1DWVuV87wUBNwc',\n",
       "    'id': '37i9dQZF1DWVuV87wUBNwc',\n",
       "    'images': [{'height': None,\n",
       "      'url': 'https://i.scdn.co/image/ab67706f00000002cb5031866ea4e13fd621c9c8',\n",
       "      'width': None}],\n",
       "    'name': 'Hits du Moment',\n",
       "    'owner': {'display_name': 'Spotify',\n",
       "     'external_urls': {'spotify': 'https://open.spotify.com/user/spotify'},\n",
       "     'href': 'https://api.spotify.com/v1/users/spotify',\n",
       "     'id': 'spotify',\n",
       "     'type': 'user',\n",
       "     'uri': 'spotify:user:spotify'},\n",
       "    'primary_color': '#FFFFFF',\n",
       "    'public': True,\n",
       "    'snapshot_id': 'ZvU/tgAAAAB5T1kydinUiiMnDhM3ZluJ',\n",
       "    'tracks': {'href': 'https://api.spotify.com/v1/playlists/37i9dQZF1DWVuV87wUBNwc/tracks',\n",
       "     'total': 50},\n",
       "    'type': 'playlist',\n",
       "    'uri': 'spotify:playlist:37i9dQZF1DWVuV87wUBNwc'},\n",
       "   {'collaborative': False,\n",
       "    'description': '#fyp\\n',\n",
       "    'external_urls': {'spotify': 'https://open.spotify.com/playlist/37i9dQZF1DXdvyLcddcaVU'},\n",
       "    'href': 'https://api.spotify.com/v1/playlists/37i9dQZF1DXdvyLcddcaVU',\n",
       "    'id': '37i9dQZF1DXdvyLcddcaVU',\n",
       "    'images': [{'height': None,\n",
       "      'url': 'https://i.scdn.co/image/ab67706f00000002843377689294bb4a65ea54cb',\n",
       "      'width': None}],\n",
       "    'name': \"t'as la ref ?\",\n",
       "    'owner': {'display_name': 'Spotify',\n",
       "     'external_urls': {'spotify': 'https://open.spotify.com/user/spotify'},\n",
       "     'href': 'https://api.spotify.com/v1/users/spotify',\n",
       "     'id': 'spotify',\n",
       "     'type': 'user',\n",
       "     'uri': 'spotify:user:spotify'},\n",
       "    'primary_color': '#ffffff',\n",
       "    'public': True,\n",
       "    'snapshot_id': 'ZvapIgAAAAA6IcwNMBAtIzaMXBha5H9a',\n",
       "    'tracks': {'href': 'https://api.spotify.com/v1/playlists/37i9dQZF1DXdvyLcddcaVU/tracks',\n",
       "     'total': 90},\n",
       "    'type': 'playlist',\n",
       "    'uri': 'spotify:playlist:37i9dQZF1DXdvyLcddcaVU'},\n",
       "   {'collaborative': False,\n",
       "    'description': 'Tiakola au top de la première playlist de rap français.',\n",
       "    'external_urls': {'spotify': 'https://open.spotify.com/playlist/37i9dQZF1DX1X23oiQRTB5'},\n",
       "    'href': 'https://api.spotify.com/v1/playlists/37i9dQZF1DX1X23oiQRTB5',\n",
       "    'id': '37i9dQZF1DX1X23oiQRTB5',\n",
       "    'images': [{'height': None,\n",
       "      'url': 'https://i.scdn.co/image/ab67706f00000002993c99ba9f85c61ee07ac484',\n",
       "      'width': None}],\n",
       "    'name': 'PVNCHLNRS',\n",
       "    'owner': {'display_name': 'Spotify',\n",
       "     'external_urls': {'spotify': 'https://open.spotify.com/user/spotify'},\n",
       "     'href': 'https://api.spotify.com/v1/users/spotify',\n",
       "     'id': 'spotify',\n",
       "     'type': 'user',\n",
       "     'uri': 'spotify:user:spotify'},\n",
       "    'primary_color': '#ffffff',\n",
       "    'public': True,\n",
       "    'snapshot_id': 'ZvXZYAAAAAB+2kbnul5NhAIxjjkcUxW+',\n",
       "    'tracks': {'href': 'https://api.spotify.com/v1/playlists/37i9dQZF1DX1X23oiQRTB5/tracks',\n",
       "     'total': 40},\n",
       "    'type': 'playlist',\n",
       "    'uri': 'spotify:playlist:37i9dQZF1DX1X23oiQRTB5'},\n",
       "   {'collaborative': False,\n",
       "    'description': 'Photo : GIMS',\n",
       "    'external_urls': {'spotify': 'https://open.spotify.com/playlist/37i9dQZF1DWYVURwQHUqnN'},\n",
       "    'href': 'https://api.spotify.com/v1/playlists/37i9dQZF1DWYVURwQHUqnN',\n",
       "    'id': '37i9dQZF1DWYVURwQHUqnN',\n",
       "    'images': [{'height': None,\n",
       "      'url': 'https://i.scdn.co/image/ab67706f00000002100901759673e7d9b42815ad',\n",
       "      'width': None}],\n",
       "    'name': 'Best Life',\n",
       "    'owner': {'display_name': 'Spotify',\n",
       "     'external_urls': {'spotify': 'https://open.spotify.com/user/spotify'},\n",
       "     'href': 'https://api.spotify.com/v1/users/spotify',\n",
       "     'id': 'spotify',\n",
       "     'type': 'user',\n",
       "     'uri': 'spotify:user:spotify'},\n",
       "    'primary_color': '#FFFFFF',\n",
       "    'public': True,\n",
       "    'snapshot_id': 'ZvXZYAAAAABOhhUO0eVV+nAJw1QJ/Id5',\n",
       "    'tracks': {'href': 'https://api.spotify.com/v1/playlists/37i9dQZF1DWYVURwQHUqnN/tracks',\n",
       "     'total': 40},\n",
       "    'type': 'playlist',\n",
       "    'uri': 'spotify:playlist:37i9dQZF1DWYVURwQHUqnN'},\n",
       "   {'collaborative': False,\n",
       "    'description': 'La playlist survitaminée !',\n",
       "    'external_urls': {'spotify': 'https://open.spotify.com/playlist/37i9dQZF1DX8685vIIepKh'},\n",
       "    'href': 'https://api.spotify.com/v1/playlists/37i9dQZF1DX8685vIIepKh',\n",
       "    'id': '37i9dQZF1DX8685vIIepKh',\n",
       "    'images': [{'height': None,\n",
       "      'url': 'https://i.scdn.co/image/ab67706f000000025cc1cdfafe525f5b33d48736',\n",
       "      'width': None}],\n",
       "    'name': 'Garde la pêche !',\n",
       "    'owner': {'display_name': 'Spotify',\n",
       "     'external_urls': {'spotify': 'https://open.spotify.com/user/spotify'},\n",
       "     'href': 'https://api.spotify.com/v1/users/spotify',\n",
       "     'id': 'spotify',\n",
       "     'type': 'user',\n",
       "     'uri': 'spotify:user:spotify'},\n",
       "    'primary_color': '#ffffff',\n",
       "    'public': True,\n",
       "    'snapshot_id': 'ZvXZYAAAAADqyErufsR5nr1akIGxuR+w',\n",
       "    'tracks': {'href': 'https://api.spotify.com/v1/playlists/37i9dQZF1DX8685vIIepKh/tracks',\n",
       "     'total': 50},\n",
       "    'type': 'playlist',\n",
       "    'uri': 'spotify:playlist:37i9dQZF1DX8685vIIepKh'},\n",
       "   {'collaborative': False,\n",
       "    'description': \"Le meilleur de la musique d'hier et d'aujourd'hui pour une journée parfaite.\",\n",
       "    'external_urls': {'spotify': 'https://open.spotify.com/playlist/37i9dQZF1DXdrln2UyZD7F'},\n",
       "    'href': 'https://api.spotify.com/v1/playlists/37i9dQZF1DXdrln2UyZD7F',\n",
       "    'id': '37i9dQZF1DXdrln2UyZD7F',\n",
       "    'images': [{'height': None,\n",
       "      'url': 'https://i.scdn.co/image/ab67706f00000002196ca462fb265a99cf3c3608',\n",
       "      'width': None}],\n",
       "    'name': 'La vie est belle',\n",
       "    'owner': {'display_name': 'Spotify',\n",
       "     'external_urls': {'spotify': 'https://open.spotify.com/user/spotify'},\n",
       "     'href': 'https://api.spotify.com/v1/users/spotify',\n",
       "     'id': 'spotify',\n",
       "     'type': 'user',\n",
       "     'uri': 'spotify:user:spotify'},\n",
       "    'primary_color': '#FFFFFF',\n",
       "    'public': True,\n",
       "    'snapshot_id': 'ZvXZYAAAAAAmiHDBomzgum4MFLw1tuj3',\n",
       "    'tracks': {'href': 'https://api.spotify.com/v1/playlists/37i9dQZF1DXdrln2UyZD7F/tracks',\n",
       "     'total': 60},\n",
       "    'type': 'playlist',\n",
       "    'uri': 'spotify:playlist:37i9dQZF1DXdrln2UyZD7F'},\n",
       "   {'collaborative': False,\n",
       "    'description': 'Le meilleur des hits ! Photo : Shaboozey',\n",
       "    'external_urls': {'spotify': 'https://open.spotify.com/playlist/37i9dQZF1DXbS5WTN5nKF7'},\n",
       "    'href': 'https://api.spotify.com/v1/playlists/37i9dQZF1DXbS5WTN5nKF7',\n",
       "    'id': '37i9dQZF1DXbS5WTN5nKF7',\n",
       "    'images': [{'height': None,\n",
       "      'url': 'https://i.scdn.co/image/ab67706f00000002712432642a45446e0568102a',\n",
       "      'width': None}],\n",
       "    'name': 'Hit Radio',\n",
       "    'owner': {'display_name': 'Spotify',\n",
       "     'external_urls': {'spotify': 'https://open.spotify.com/user/spotify'},\n",
       "     'href': 'https://api.spotify.com/v1/users/spotify',\n",
       "     'id': 'spotify',\n",
       "     'type': 'user',\n",
       "     'uri': 'spotify:user:spotify'},\n",
       "    'primary_color': '#FFFFFF',\n",
       "    'public': True,\n",
       "    'snapshot_id': 'ZvXZYAAAAAC5hu1pv+Mi7NGtw338+Fbz',\n",
       "    'tracks': {'href': 'https://api.spotify.com/v1/playlists/37i9dQZF1DXbS5WTN5nKF7/tracks',\n",
       "     'total': 50},\n",
       "    'type': 'playlist',\n",
       "    'uri': 'spotify:playlist:37i9dQZF1DXbS5WTN5nKF7'},\n",
       "   {'collaborative': False,\n",
       "    'description': 'the beat of your drift',\n",
       "    'external_urls': {'spotify': 'https://open.spotify.com/playlist/37i9dQZF1DWWY64wDtewQt'},\n",
       "    'href': 'https://api.spotify.com/v1/playlists/37i9dQZF1DWWY64wDtewQt',\n",
       "    'id': '37i9dQZF1DWWY64wDtewQt',\n",
       "    'images': [{'height': None,\n",
       "      'url': 'https://i.scdn.co/image/ab67706f000000027dc5028b26eb62f22d31bb1f',\n",
       "      'width': None}],\n",
       "    'name': 'phonk',\n",
       "    'owner': {'display_name': 'Spotify',\n",
       "     'external_urls': {'spotify': 'https://open.spotify.com/user/spotify'},\n",
       "     'href': 'https://api.spotify.com/v1/users/spotify',\n",
       "     'id': 'spotify',\n",
       "     'type': 'user',\n",
       "     'uri': 'spotify:user:spotify'},\n",
       "    'primary_color': '#ffffff',\n",
       "    'public': True,\n",
       "    'snapshot_id': 'Zu2O8AAAAABuK6hyIdinE0qsjOIP0HKj',\n",
       "    'tracks': {'href': 'https://api.spotify.com/v1/playlists/37i9dQZF1DWWY64wDtewQt/tracks',\n",
       "     'total': 100},\n",
       "    'type': 'playlist',\n",
       "    'uri': 'spotify:playlist:37i9dQZF1DWWY64wDtewQt'},\n",
       "   {'collaborative': False,\n",
       "    'description': \"Nouvel album, inclus G.A.N.G. feat Niska &amp; La Mano 1.9, Cabrel feat. Saaro, Plaisir Nocif feat. SDM &amp; Lim's , Y.J (C'est KO) feat. Ronisia,  1h55 feat. RSKO &amp; Hamza... \",\n",
       "    'external_urls': {'spotify': 'https://open.spotify.com/playlist/0qylIR3cDeMuvyltTYMZmH'},\n",
       "    'href': 'https://api.spotify.com/v1/playlists/0qylIR3cDeMuvyltTYMZmH',\n",
       "    'id': '0qylIR3cDeMuvyltTYMZmH',\n",
       "    'images': [{'height': None,\n",
       "      'url': 'https://image-cdn-ak.spotifycdn.com/image/ab67706c0000da84100501e1b45ffa5380f96e29',\n",
       "      'width': None}],\n",
       "    'name': 'TIAKOLA : BDLM VOL. 1',\n",
       "    'owner': {'display_name': 'Topsify France',\n",
       "     'external_urls': {'spotify': 'https://open.spotify.com/user/warnerfrspotify'},\n",
       "     'href': 'https://api.spotify.com/v1/users/warnerfrspotify',\n",
       "     'id': 'warnerfrspotify',\n",
       "     'type': 'user',\n",
       "     'uri': 'spotify:user:warnerfrspotify'},\n",
       "    'primary_color': None,\n",
       "    'public': True,\n",
       "    'snapshot_id': 'AAARYgId8CU74QxZk+9MpRUbv6uuKIbP',\n",
       "    'tracks': {'href': 'https://api.spotify.com/v1/playlists/0qylIR3cDeMuvyltTYMZmH/tracks',\n",
       "     'total': None},\n",
       "    'type': 'playlist',\n",
       "    'uri': 'spotify:playlist:0qylIR3cDeMuvyltTYMZmH'},\n",
       "   {'collaborative': False,\n",
       "    'description': '\"Si seulement...\" de Kendji Girac est le Grand Hit de la semaine.',\n",
       "    'external_urls': {'spotify': 'https://open.spotify.com/playlist/37i9dQZF1DXcSPhLAnCjoM'},\n",
       "    'href': 'https://api.spotify.com/v1/playlists/37i9dQZF1DXcSPhLAnCjoM',\n",
       "    'id': '37i9dQZF1DXcSPhLAnCjoM',\n",
       "    'images': [{'height': None,\n",
       "      'url': 'https://i.scdn.co/image/ab67706f0000000259b033cfcd2c2a5cf33b6231',\n",
       "      'width': None}],\n",
       "    'name': 'Grand Hit',\n",
       "    'owner': {'display_name': 'Spotify',\n",
       "     'external_urls': {'spotify': 'https://open.spotify.com/user/spotify'},\n",
       "     'href': 'https://api.spotify.com/v1/users/spotify',\n",
       "     'id': 'spotify',\n",
       "     'type': 'user',\n",
       "     'uri': 'spotify:user:spotify'},\n",
       "    'primary_color': '#FFFFFF',\n",
       "    'public': True,\n",
       "    'snapshot_id': 'ZvXZYAAAAAA5Myc8XJtr7PJOb1xMAPx/',\n",
       "    'tracks': {'href': 'https://api.spotify.com/v1/playlists/37i9dQZF1DXcSPhLAnCjoM/tracks',\n",
       "     'total': 40},\n",
       "    'type': 'playlist',\n",
       "    'uri': 'spotify:playlist:37i9dQZF1DXcSPhLAnCjoM'},\n",
       "   {'collaborative': False,\n",
       "    'description': 'Le meilleur des années 80 en 80 titres.',\n",
       "    'external_urls': {'spotify': 'https://open.spotify.com/playlist/37i9dQZF1DWWl7MndYYxge'},\n",
       "    'href': 'https://api.spotify.com/v1/playlists/37i9dQZF1DWWl7MndYYxge',\n",
       "    'id': '37i9dQZF1DWWl7MndYYxge',\n",
       "    'images': [{'height': None,\n",
       "      'url': 'https://i.scdn.co/image/ab67706f00000002b2a0585878a07d5a6f69db73',\n",
       "      'width': None}],\n",
       "    'name': 'Années 80',\n",
       "    'owner': {'display_name': 'Spotify',\n",
       "     'external_urls': {'spotify': 'https://open.spotify.com/user/spotify'},\n",
       "     'href': 'https://api.spotify.com/v1/users/spotify',\n",
       "     'id': 'spotify',\n",
       "     'type': 'user',\n",
       "     'uri': 'spotify:user:spotify'},\n",
       "    'primary_color': '#ffffff',\n",
       "    'public': True,\n",
       "    'snapshot_id': 'ZmxqxAAAAAAQs9zMJ33Ev6QS1h6Osw41',\n",
       "    'tracks': {'href': 'https://api.spotify.com/v1/playlists/37i9dQZF1DWWl7MndYYxge/tracks',\n",
       "     'total': 80},\n",
       "    'type': 'playlist',\n",
       "    'uri': 'spotify:playlist:37i9dQZF1DWWl7MndYYxge'},\n",
       "   {'collaborative': False,\n",
       "    'description': 'Le meilleur des années 2000 en 100 titres.',\n",
       "    'external_urls': {'spotify': 'https://open.spotify.com/playlist/37i9dQZF1DXacPj7eARo6k'},\n",
       "    'href': 'https://api.spotify.com/v1/playlists/37i9dQZF1DXacPj7eARo6k',\n",
       "    'id': '37i9dQZF1DXacPj7eARo6k',\n",
       "    'images': [{'height': None,\n",
       "      'url': 'https://i.scdn.co/image/ab67706f000000025939c8723d0fe3158851c96c',\n",
       "      'width': None}],\n",
       "    'name': 'Années 2000',\n",
       "    'owner': {'display_name': 'Spotify',\n",
       "     'external_urls': {'spotify': 'https://open.spotify.com/user/spotify'},\n",
       "     'href': 'https://api.spotify.com/v1/users/spotify',\n",
       "     'id': 'spotify',\n",
       "     'type': 'user',\n",
       "     'uri': 'spotify:user:spotify'},\n",
       "    'primary_color': '#ffffff',\n",
       "    'public': True,\n",
       "    'snapshot_id': 'ZmxpJQAAAAD1gbPTEQo20LrHQeGsSiHV',\n",
       "    'tracks': {'href': 'https://api.spotify.com/v1/playlists/37i9dQZF1DXacPj7eARo6k/tracks',\n",
       "     'total': 100},\n",
       "    'type': 'playlist',\n",
       "    'uri': 'spotify:playlist:37i9dQZF1DXacPj7eARo6k'},\n",
       "   {'collaborative': False,\n",
       "    'description': 'La playlist idéale pour prendre la route.',\n",
       "    'external_urls': {'spotify': 'https://open.spotify.com/playlist/37i9dQZF1DX1S89tRXh2OS'},\n",
       "    'href': 'https://api.spotify.com/v1/playlists/37i9dQZF1DX1S89tRXh2OS',\n",
       "    'id': '37i9dQZF1DX1S89tRXh2OS',\n",
       "    'images': [{'height': None,\n",
       "      'url': 'https://i.scdn.co/image/ab67706f000000029e7b5c16c84a3dd4cb73761f',\n",
       "      'width': None}],\n",
       "    'name': 'Sur la route',\n",
       "    'owner': {'display_name': 'Spotify',\n",
       "     'external_urls': {'spotify': 'https://open.spotify.com/user/spotify'},\n",
       "     'href': 'https://api.spotify.com/v1/users/spotify',\n",
       "     'id': 'spotify',\n",
       "     'type': 'user',\n",
       "     'uri': 'spotify:user:spotify'},\n",
       "    'primary_color': '#ffffff',\n",
       "    'public': True,\n",
       "    'snapshot_id': 'Zp/BXAAAAAByKXyYFBNpkkIsSy3Z5Gkv',\n",
       "    'tracks': {'href': 'https://api.spotify.com/v1/playlists/37i9dQZF1DX1S89tRXh2OS/tracks',\n",
       "     'total': 80},\n",
       "    'type': 'playlist',\n",
       "    'uri': 'spotify:playlist:37i9dQZF1DX1S89tRXh2OS'},\n",
       "   {'collaborative': False,\n",
       "    'description': 'Le rayon de soleil musical de votre matinée 🦔',\n",
       "    'external_urls': {'spotify': 'https://open.spotify.com/playlist/37i9dQZF1DWSM0Vq39VM1S'},\n",
       "    'href': 'https://api.spotify.com/v1/playlists/37i9dQZF1DWSM0Vq39VM1S',\n",
       "    'id': '37i9dQZF1DWSM0Vq39VM1S',\n",
       "    'images': [{'height': None,\n",
       "      'url': 'https://i.scdn.co/image/ab67706f00000002b2997bc415adb4d11d628c84',\n",
       "      'width': None}],\n",
       "    'name': 'Réveil en douceur',\n",
       "    'owner': {'display_name': 'Spotify',\n",
       "     'external_urls': {'spotify': 'https://open.spotify.com/user/spotify'},\n",
       "     'href': 'https://api.spotify.com/v1/users/spotify',\n",
       "     'id': 'spotify',\n",
       "     'type': 'user',\n",
       "     'uri': 'spotify:user:spotify'},\n",
       "    'primary_color': '#ffffff',\n",
       "    'public': True,\n",
       "    'snapshot_id': 'ZulF0AAAAAB+F24V9H9b9bTTMqCIdvsj',\n",
       "    'tracks': {'href': 'https://api.spotify.com/v1/playlists/37i9dQZF1DWSM0Vq39VM1S/tracks',\n",
       "     'total': 75},\n",
       "    'type': 'playlist',\n",
       "    'uri': 'spotify:playlist:37i9dQZF1DWSM0Vq39VM1S'},\n",
       "   {'collaborative': False,\n",
       "    'description': 'Tous les hits rap français de ces dernières années.',\n",
       "    'external_urls': {'spotify': 'https://open.spotify.com/playlist/37i9dQZF1DX4sJFeoGlF41'},\n",
       "    'href': 'https://api.spotify.com/v1/playlists/37i9dQZF1DX4sJFeoGlF41',\n",
       "    'id': '37i9dQZF1DX4sJFeoGlF41',\n",
       "    'images': [{'height': None,\n",
       "      'url': 'https://i.scdn.co/image/ab67706f000000026f4101e52b9cb74876879b87',\n",
       "      'width': None}],\n",
       "    'name': 'Platinum',\n",
       "    'owner': {'display_name': 'Spotify',\n",
       "     'external_urls': {'spotify': 'https://open.spotify.com/user/spotify'},\n",
       "     'href': 'https://api.spotify.com/v1/users/spotify',\n",
       "     'id': 'spotify',\n",
       "     'type': 'user',\n",
       "     'uri': 'spotify:user:spotify'},\n",
       "    'primary_color': '#ffffff',\n",
       "    'public': True,\n",
       "    'snapshot_id': 'ZvbC3AAAAABbU8ocfNCEuoI5VY8OUOqp',\n",
       "    'tracks': {'href': 'https://api.spotify.com/v1/playlists/37i9dQZF1DX4sJFeoGlF41/tracks',\n",
       "     'total': 50},\n",
       "    'type': 'playlist',\n",
       "    'uri': 'spotify:playlist:37i9dQZF1DX4sJFeoGlF41'},\n",
       "   {'collaborative': False,\n",
       "    'description': 'SDM au top des nouveautés de la semaine !',\n",
       "    'external_urls': {'spotify': 'https://open.spotify.com/playlist/37i9dQZF1DX742okrrpwah'},\n",
       "    'href': 'https://api.spotify.com/v1/playlists/37i9dQZF1DX742okrrpwah',\n",
       "    'id': '37i9dQZF1DX742okrrpwah',\n",
       "    'images': [{'height': None,\n",
       "      'url': 'https://i.scdn.co/image/ab67706f00000002727236bfa3730285b59e6fec',\n",
       "      'width': None}],\n",
       "    'name': 'New Music Friday France',\n",
       "    'owner': {'display_name': 'Spotify',\n",
       "     'external_urls': {'spotify': 'https://open.spotify.com/user/spotify'},\n",
       "     'href': 'https://api.spotify.com/v1/users/spotify',\n",
       "     'id': 'spotify',\n",
       "     'type': 'user',\n",
       "     'uri': 'spotify:user:spotify'},\n",
       "    'primary_color': '#fFFFFF',\n",
       "    'public': True,\n",
       "    'snapshot_id': 'ZvXZYAAAAADWte7zEsAxa93JEYrL7d2J',\n",
       "    'tracks': {'href': 'https://api.spotify.com/v1/playlists/37i9dQZF1DX742okrrpwah/tracks',\n",
       "     'total': 102},\n",
       "    'type': 'playlist',\n",
       "    'uri': 'spotify:playlist:37i9dQZF1DX742okrrpwah'},\n",
       "   {'collaborative': False,\n",
       "    'description': 'Peaceful piano to help you slow down, breathe, and relax. ',\n",
       "    'external_urls': {'spotify': 'https://open.spotify.com/playlist/37i9dQZF1DX4sWSpwq3LiO'},\n",
       "    'href': 'https://api.spotify.com/v1/playlists/37i9dQZF1DX4sWSpwq3LiO',\n",
       "    'id': '37i9dQZF1DX4sWSpwq3LiO',\n",
       "    'images': [{'height': None,\n",
       "      'url': 'https://i.scdn.co/image/ab67706f0000000283da657fca565320e9311863',\n",
       "      'width': None}],\n",
       "    'name': 'Peaceful Piano',\n",
       "    'owner': {'display_name': 'Spotify',\n",
       "     'external_urls': {'spotify': 'https://open.spotify.com/user/spotify'},\n",
       "     'href': 'https://api.spotify.com/v1/users/spotify',\n",
       "     'id': 'spotify',\n",
       "     'type': 'user',\n",
       "     'uri': 'spotify:user:spotify'},\n",
       "    'primary_color': '#ffffff',\n",
       "    'public': True,\n",
       "    'snapshot_id': 'ZvqLBgAAAAAdEocGX0y8HZF8avIAmU5x',\n",
       "    'tracks': {'href': 'https://api.spotify.com/v1/playlists/37i9dQZF1DX4sWSpwq3LiO/tracks',\n",
       "     'total': 201},\n",
       "    'type': 'playlist',\n",
       "    'uri': 'spotify:playlist:37i9dQZF1DX4sWSpwq3LiO'},\n",
       "   {'collaborative': False,\n",
       "    'description': 'La playlist idéale pour se détendre en musique.',\n",
       "    'external_urls': {'spotify': 'https://open.spotify.com/playlist/37i9dQZF1DX42c5TkSUfEb'},\n",
       "    'href': 'https://api.spotify.com/v1/playlists/37i9dQZF1DX42c5TkSUfEb',\n",
       "    'id': '37i9dQZF1DX42c5TkSUfEb',\n",
       "    'images': [{'height': None,\n",
       "      'url': 'https://i.scdn.co/image/ab67706f00000002da4b8b5745c3921d5a48d7ea',\n",
       "      'width': None}],\n",
       "    'name': 'Au calme',\n",
       "    'owner': {'display_name': 'Spotify',\n",
       "     'external_urls': {'spotify': 'https://open.spotify.com/user/spotify'},\n",
       "     'href': 'https://api.spotify.com/v1/users/spotify',\n",
       "     'id': 'spotify',\n",
       "     'type': 'user',\n",
       "     'uri': 'spotify:user:spotify'},\n",
       "    'primary_color': '#ffffff',\n",
       "    'public': True,\n",
       "    'snapshot_id': 'ZqLK4AAAAAAP9BSTmaDV74XIBJ1JO/MN',\n",
       "    'tracks': {'href': 'https://api.spotify.com/v1/playlists/37i9dQZF1DX42c5TkSUfEb/tracks',\n",
       "     'total': 100},\n",
       "    'type': 'playlist',\n",
       "    'uri': 'spotify:playlist:37i9dQZF1DX42c5TkSUfEb'},\n",
       "   {'collaborative': False,\n",
       "    'description': 'The hottest 50. Cover: Chappell Roan',\n",
       "    'external_urls': {'spotify': 'https://open.spotify.com/playlist/37i9dQZF1DXcBWIGoYBM5M'},\n",
       "    'href': 'https://api.spotify.com/v1/playlists/37i9dQZF1DXcBWIGoYBM5M',\n",
       "    'id': '37i9dQZF1DXcBWIGoYBM5M',\n",
       "    'images': [{'height': None,\n",
       "      'url': 'https://i.scdn.co/image/ab67706f000000029c64e04c3d6fa3755056ba8d',\n",
       "      'width': None}],\n",
       "    'name': 'Today’s Top Hits',\n",
       "    'owner': {'display_name': 'Spotify',\n",
       "     'external_urls': {'spotify': 'https://open.spotify.com/user/spotify'},\n",
       "     'href': 'https://api.spotify.com/v1/users/spotify',\n",
       "     'id': 'spotify',\n",
       "     'type': 'user',\n",
       "     'uri': 'spotify:user:spotify'},\n",
       "    'primary_color': '#FFFFFF',\n",
       "    'public': True,\n",
       "    'snapshot_id': 'ZvYtwAAAAAB6+vpojlTWzeyTPVvUsDOo',\n",
       "    'tracks': {'href': 'https://api.spotify.com/v1/playlists/37i9dQZF1DXcBWIGoYBM5M/tracks',\n",
       "     'total': 50},\n",
       "    'type': 'playlist',\n",
       "    'uri': 'spotify:playlist:37i9dQZF1DXcBWIGoYBM5M'},\n",
       "   {'collaborative': False,\n",
       "    'description': 'Les meilleures nouveautés du rap français. Photo : SDM',\n",
       "    'external_urls': {'spotify': 'https://open.spotify.com/playlist/37i9dQZF1DWU4xkXueiKGW'},\n",
       "    'href': 'https://api.spotify.com/v1/playlists/37i9dQZF1DWU4xkXueiKGW',\n",
       "    'id': '37i9dQZF1DWU4xkXueiKGW',\n",
       "    'images': [{'height': None,\n",
       "      'url': 'https://i.scdn.co/image/ab67706f0000000255f6e299244dc984b148a724',\n",
       "      'width': None}],\n",
       "    'name': 'Fresh Rap',\n",
       "    'owner': {'display_name': 'Spotify',\n",
       "     'external_urls': {'spotify': 'https://open.spotify.com/user/spotify'},\n",
       "     'href': 'https://api.spotify.com/v1/users/spotify',\n",
       "     'id': 'spotify',\n",
       "     'type': 'user',\n",
       "     'uri': 'spotify:user:spotify'},\n",
       "    'primary_color': '#ffffff',\n",
       "    'public': True,\n",
       "    'snapshot_id': 'ZvXZYAAAAADCIMPa45SGGgXwfIsCpmLo',\n",
       "    'tracks': {'href': 'https://api.spotify.com/v1/playlists/37i9dQZF1DWU4xkXueiKGW/tracks',\n",
       "     'total': 40},\n",
       "    'type': 'playlist',\n",
       "    'uri': 'spotify:playlist:37i9dQZF1DWU4xkXueiKGW'}],\n",
       "  'limit': 20,\n",
       "  'next': 'https://api.spotify.com/v1/browse/featured-playlists?offset=20&limit=20',\n",
       "  'offset': 0,\n",
       "  'previous': None,\n",
       "  'total': 100}}"
      ]
     },
     "execution_count": 17,
     "metadata": {},
     "output_type": "execute_result"
    }
   ],
   "source": [
    "sp.featured_playlists() # We get a playlist id of a playlist we like"
   ]
  },
  {
   "cell_type": "markdown",
   "id": "90f558f3-c638-4df4-b5a4-e24f7847d52a",
   "metadata": {},
   "source": [
    "### Getting a Playlist's Details\n",
    "To fetch details about a specific playlist, you can use the playlist method. You'll need the playlist's Spotify ID."
   ]
  },
  {
   "cell_type": "markdown",
   "id": "0eef529f-617f-4ea3-8156-07472ac8e6d5",
   "metadata": {},
   "source": [
    "In this example, we will use the following playlist id: *37i9dQZF1DXd9zR7tdziuQ*"
   ]
  },
  {
   "cell_type": "code",
   "execution_count": 21,
   "id": "46d35121-9256-4cf4-81f5-118b87f7af32",
   "metadata": {},
   "outputs": [],
   "source": [
    "playlist_id = \"37i9dQZF1DWVuV87wUBNwc\"\n",
    "playlist = sp.playlist(playlist_id)"
   ]
  },
  {
   "cell_type": "code",
   "execution_count": 23,
   "id": "5260f67f-6024-4fee-8449-30904f03bf76",
   "metadata": {},
   "outputs": [
    {
     "name": "stdout",
     "output_type": "stream",
     "text": [
      "Hits du Moment\n",
      "Lady Gaga, Bruno Mars au sommet de la première playlist de France.\n"
     ]
    }
   ],
   "source": [
    "print(playlist['name'])  # Print the playlist's name\n",
    "print(playlist['description'])  # Print the playlist's description"
   ]
  },
  {
   "cell_type": "markdown",
   "id": "13bc8631-69f0-4b98-9cc9-5baecbaea9ba",
   "metadata": {},
   "source": [
    "### Getting Tracks from a Playlist\n",
    "If you want to get the tracks from a specific playlist, you can use the playlist_tracks method."
   ]
  },
  {
   "cell_type": "code",
   "execution_count": 25,
   "id": "69c78f8d-7e6a-4d15-bcbb-fc93edb82433",
   "metadata": {},
   "outputs": [
    {
     "name": "stdout",
     "output_type": "stream",
     "text": [
      "Die With A Smile\n",
      "SOIS PAS TIMIDE\n",
      "Si Antes Te Hubiera Conocido\n",
      "Alibi (with Pabllo Vittar & Yseult)\n",
      "Passe ton chemin\n",
      "Gata Only\n",
      "Nightcall\n",
      "Stargazing\n",
      "Wayeh\n",
      "Move\n",
      "Rosa\n",
      "Austin (Boots Stop Workin')\n",
      "It's Not Right But It's Okay\n",
      "SPIDER\n",
      "The Door\n",
      "Plus L'Time (Stereo Love)\n",
      "A Bar Song (Tipsy)\n",
      "Imagine\n",
      "Dancing In The Flames\n",
      "Beautiful Things\n",
      "Boucan (feat. Franglish)\n",
      "The Sound of Silence - CYRIL Remix\n",
      "feelslikeimfallinginlove\n",
      "Chaque seconde (feat. M. Pokora)\n",
      "Espresso\n",
      "Terminal 2F\n",
      "Queen of My Castle\n",
      "Belong Together\n",
      "Si seulement...\n",
      "I Don't Wanna Wait\n",
      "Monaco\n",
      "Yamore - Edit Version\n",
      "Good Luck, Babe!\n",
      "Recommence-moi\n",
      "Heaven\n",
      "Mélanine\n",
      "Wake Up\n",
      "Ton regard\n",
      "feelings don't lie\n",
      "Bene\n",
      "BIRDS OF A FEATHER\n",
      "Nous on sait\n",
      "Cry Baby\n",
      "WE PRAY\n",
      "Adieu\n",
      "The Emptiness Machine\n",
      "Danza Kuduro - Tiësto Remix\n",
      "Taste\n",
      "Summer Body\n",
      "Carry You Home\n"
     ]
    }
   ],
   "source": [
    "tracks = sp.playlist_tracks(playlist_id)\n",
    "for track in tracks['items']:\n",
    "    print(track['track']['name'])  # Print each track's name"
   ]
  },
  {
   "cell_type": "markdown",
   "id": "2775714d-acc7-4555-96bd-2c541ab0855e",
   "metadata": {},
   "source": [
    "### Getting Artists from a Playlist\n",
    "\n",
    "To extract all the artists from the tracks in a playlist, you'd typically follow these steps:\n",
    "\n",
    "1. Fetch the playlist's tracks.\n",
    "2. Iterate through each track.\n",
    "3. For each track, extract the associated artists."
   ]
  },
  {
   "cell_type": "code",
   "execution_count": 27,
   "id": "65c5e5c4-f186-42c6-b136-4ef02b0b01ff",
   "metadata": {},
   "outputs": [
    {
     "name": "stdout",
     "output_type": "stream",
     "text": [
      "['Lady Gaga', 'Bruno Mars', 'GIMS', 'KAROL G', 'Sevdaliza', 'Pabllo Vittar', 'Yseult', 'Lynda', 'FloyyMenor', 'Cris Mj', 'Kavinsky', 'Angèle', 'Phoenix', 'Myles Smith', 'THEODORT', 'Adam Port', 'Stryv', 'Keinemusik', 'Orso', 'Malachiii', 'RIDSA', 'Dasha', 'Mr. Belt & Wezol', 'DYSTINCT', 'Teddy Swims', 'Léa Zelia', 'Edward Maya', 'Adryano', 'Shaboozey', 'Carbonne', 'The Weeknd', 'Benson Boone', 'KeBlack', 'Franglish', 'Disturbed', 'CYRIL', 'Coldplay', 'Pierre Garnier', 'M. Pokora', 'Sabrina Carpenter', 'Dadju', 'Kris Kross Amsterdam', 'INNA', 'Mark Ambor', 'Kendji Girac', 'David Guetta', 'OneRepublic', 'Guy2Bezbar', 'MoBlack', 'Salif Keita', 'Benja (NL)', 'Franc Fala', 'Cesária Evora', 'Chappell Roan', 'SANTA', 'Sound Of Legend', \"Heuss L'enfoiré\", 'Werenoi', 'Imagine Dragons', 'Joseph Kamel', 'Ofenbach', 'salem ilese', 'Billie Eilish', 'Clean Bandit', 'Anne-Marie', 'Little Simz', 'Burna Boy', 'Elyanna', 'TINI', 'Jérémy Frerot', 'Linkin Park', 'Don Omar', 'Lucenzo', 'Tiësto', 'Helena', 'Alex Warren']\n"
     ]
    }
   ],
   "source": [
    "# List to store unique artist names\n",
    "artists_list = []\n",
    "\n",
    "for track_item in tracks['items']:\n",
    "    track = track_item['track']\n",
    "    for artist in track['artists']:\n",
    "        artist_name = artist['name']\n",
    "        if artist_name not in artists_list:  # This ensures each artist is added only once\n",
    "            artists_list.append(artist_name)\n",
    "\n",
    "print(artists_list)"
   ]
  },
  {
   "cell_type": "markdown",
   "id": "7b52207e-a4f0-4f90-9f4e-3170d7f0f3fe",
   "metadata": {},
   "source": [
    "## Exercise 2: Unraveling the World of Playlists\n",
    "\n",
    "\n",
    "1. **Featured Exploration**: \n",
    "   - Fetch the list of Spotify's current featured playlists. \n",
    "   - Extract and display the names and IDs of the top 5 featured playlists.\n",
    "   \n",
    "2. **Deep Dive**:\n",
    "   - Choose any one of the top 5 featured playlists (you can choose the one you personally find most interesting or simply pick one randomly).\n",
    "   - Fetch and display its name, description, and total track count.\n",
    "\n",
    "3. **Track-tastic**:\n",
    "   - Extract and display the names of the first 10 tracks in the chosen playlist.\n",
    "\n",
    "4. **Artistic Flair**:\n",
    "   - Create a dictionary where the keys are the names of the first 10 tracks, and the values are lists containing the names of the artists associated with each track.\n",
    "   - For example: `{\"TrackName1\": [\"Artist1\", \"Artist2\"], \"TrackName2\": [\"Artist3\"]}`\n",
    "   "
   ]
  },
  {
   "cell_type": "code",
   "execution_count": null,
   "id": "ed92d961-9646-4375-a386-ccc320a958f5",
   "metadata": {},
   "outputs": [],
   "source": [
    "# Your answer here"
   ]
  }
 ],
 "metadata": {
  "kernelspec": {
   "display_name": "Python 3 (ipykernel)",
   "language": "python",
   "name": "python3"
  },
  "language_info": {
   "codemirror_mode": {
    "name": "ipython",
    "version": 3
   },
   "file_extension": ".py",
   "mimetype": "text/x-python",
   "name": "python",
   "nbconvert_exporter": "python",
   "pygments_lexer": "ipython3",
   "version": "3.12.4"
  }
 },
 "nbformat": 4,
 "nbformat_minor": 5
}
